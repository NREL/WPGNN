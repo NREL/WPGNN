{
 "cells": [
  {
   "cell_type": "code",
   "execution_count": null,
   "id": "5f68675b",
   "metadata": {},
   "outputs": [],
   "source": [
    "import numpy as np\n",
    "from playgen import PLayGen\n",
    "import matplotlib.pyplot as plt\n",
    "\n",
    "# Initialize Plant Layout Generator\n",
    "generator = PLayGen()"
   ]
  },
  {
   "cell_type": "code",
   "execution_count": null,
   "id": "3865baae",
   "metadata": {},
   "outputs": [],
   "source": [
    "# Generate random wind plant\n",
    "wind_plant = generator()\n",
    "\n",
    "plt.figure(figsize=(4, 4))\n",
    "plt.scatter(wind_plant[:, 0], wind_plant[:, 1], s=15, facecolor='b', edgecolor='k')\n",
    "xlim = plt.gca().get_xlim()\n",
    "ylim = plt.gca().get_ylim()\n",
    "plt.xlim(np.minimum(xlim[0], ylim[0]), np.maximum(xlim[1], ylim[1]))\n",
    "plt.ylim(np.minimum(xlim[0], ylim[0]), np.maximum(xlim[1], ylim[1]))\n",
    "plt.gca().set_aspect(1.)\n",
    "plt.title('Number of Turbines: {}'.format(wind_plant.shape[0]))\n",
    "plt.show()"
   ]
  },
  {
   "cell_type": "code",
   "execution_count": null,
   "id": "32e40157",
   "metadata": {},
   "outputs": [],
   "source": [
    "# Generate a random wind plant of each of the four canonical styles\n",
    "generator.reset()\n",
    "\n",
    "plant_styles = ['cluster', 'single string', 'multiple string', 'parallel string']\n",
    "\n",
    "fig, ax = plt.subplots(1, 4, figsize=(12, 3))\n",
    "for i, pstyle in enumerate(plant_styles):\n",
    "    generator.set_layout_style(pstyle)\n",
    "    wind_plant = generator()\n",
    "\n",
    "    plt.axes(ax[i])\n",
    "    plt.scatter(wind_plant[:, 0], wind_plant[:, 1], s=15, facecolor='b', edgecolor='k')\n",
    "    xlim = plt.gca().get_xlim()\n",
    "    ylim = plt.gca().get_ylim()\n",
    "    plt.xlim(np.minimum(xlim[0], ylim[0]), np.maximum(xlim[1], ylim[1]))\n",
    "    plt.ylim(np.minimum(xlim[0], ylim[0]), np.maximum(xlim[1], ylim[1]))\n",
    "    plt.gca().set_aspect(1.)\n",
    "    plt.title(pstyle)\n",
    "plt.tight_layout()\n",
    "plt.show()"
   ]
  },
  {
   "cell_type": "code",
   "execution_count": null,
   "id": "fd193945",
   "metadata": {},
   "outputs": [],
   "source": [
    "# Fix the number of turbines\n",
    "generator.reset()\n",
    "generator.set_N_turbs(50)\n",
    "\n",
    "plant_styles = ['cluster', 'single string', 'multiple string', 'parallel string']\n",
    "\n",
    "fig, ax = plt.subplots(1, 4, figsize=(12, 3))\n",
    "for i, pstyle in enumerate(plant_styles):\n",
    "    generator.set_layout_style(pstyle)\n",
    "    wind_plant = generator()\n",
    "\n",
    "    plt.axes(ax[i])\n",
    "    plt.scatter(wind_plant[:, 0], wind_plant[:, 1], s=15, facecolor='b', edgecolor='k')\n",
    "    xlim = plt.gca().get_xlim()\n",
    "    ylim = plt.gca().get_ylim()\n",
    "    plt.xlim(np.minimum(xlim[0], ylim[0]), np.maximum(xlim[1], ylim[1]))\n",
    "    plt.ylim(np.minimum(xlim[0], ylim[0]), np.maximum(xlim[1], ylim[1]))\n",
    "    plt.gca().set_aspect(1.)\n",
    "    plt.title(pstyle)\n",
    "plt.suptitle('All layouts contain 50 turbines')\n",
    "plt.tight_layout()\n",
    "plt.show()"
   ]
  },
  {
   "cell_type": "code",
   "execution_count": null,
   "id": "f3128362",
   "metadata": {},
   "outputs": [],
   "source": [
    "# Change spacing between turbines\n",
    "generator.reset()\n",
    "generator.set_layout_style('cluster')\n",
    "generator.set_N_turbs(25)\n",
    "\n",
    "spacing_list = [3, 5, 10]\n",
    "\n",
    "fig, ax = plt.subplots(1, 3, figsize=(9, 3))\n",
    "xlim, ylim = [], []\n",
    "for i, turb_spacing in enumerate(spacing_list):\n",
    "    generator.set_spacing(turb_spacing, spacing_units='D')\n",
    "    wind_plant = generator()\n",
    "\n",
    "    plt.axes(ax[i])\n",
    "    plt.scatter(wind_plant[:, 0], wind_plant[:, 1], s=15, facecolor='b', edgecolor='k')\n",
    "    xlim.append(plt.gca().get_xlim())\n",
    "    ylim.append(plt.gca().get_ylim())\n",
    "    plt.gca().set_aspect(1.)\n",
    "    plt.title('Mean Inter-turbine Spacing = {}D'.format(turb_spacing))\n",
    "\n",
    "lim = [np.minimum(np.min([x[0] for x in xlim]), np.min([y[0] for y in ylim])),\n",
    "       np.maximum(np.max([x[1] for x in xlim]), np.max([y[1] for y in ylim]))]\n",
    "for i in range(len(spacing_list)):\n",
    "    plt.axes(ax[i])\n",
    "    plt.xlim(lim)\n",
    "    plt.ylim(lim)\n",
    "plt.tight_layout()\n",
    "plt.show()"
   ]
  },
  {
   "cell_type": "code",
   "execution_count": null,
   "id": "0116e735",
   "metadata": {},
   "outputs": [],
   "source": []
  }
 ],
 "metadata": {
  "kernelspec": {
   "display_name": "Python 3",
   "language": "python",
   "name": "python3"
  },
  "language_info": {
   "codemirror_mode": {
    "name": "ipython",
    "version": 3
   },
   "file_extension": ".py",
   "mimetype": "text/x-python",
   "name": "python",
   "nbconvert_exporter": "python",
   "pygments_lexer": "ipython3",
   "version": "3.7.12"
  }
 },
 "nbformat": 4,
 "nbformat_minor": 5
}
