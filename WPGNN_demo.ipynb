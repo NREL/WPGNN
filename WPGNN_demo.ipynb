{
 "cells": [
  {
   "cell_type": "code",
   "execution_count": null,
   "metadata": {},
   "outputs": [],
   "source": [
    "import numpy as np\n",
    "import matplotlib.pyplot as plt\n",
    "from wpgnn import WPGNN\n",
    "from graph_nets.utils_tf import *\n",
    "from graph_nets.utils_np import graphs_tuple_to_data_dicts\n",
    "from playgen import PLayGen\n",
    "import utils"
   ]
  },
  {
   "cell_type": "code",
   "execution_count": null,
   "metadata": {},
   "outputs": [],
   "source": [
    "# Load data\n",
    "scale_factors = {'x_globals': np.array([[0., 25.], [0., 25.], [0.09, 0.03]]),\n",
    "                   'x_nodes': np.array([[0., 75000.], [0., 85000.], [15., 15.]]),\n",
    "                   'x_edges': np.array([[-100000., 100000.], [0., 75000.]]),\n",
    "                 'f_globals': np.array([[0., 500000000.], [0., 100000.]]),\n",
    "                   'f_nodes': np.array([[0., 5000000.], [0.,25.]]),\n",
    "                   'f_edges': np.array([[0., 0.]])}\n",
    "data = utils.load_data('example_data.h5', normalize=True, scale_factors=scale_factors)\n",
    "\n",
    "# Initialize WPGNN model\n",
    "model = WPGNN(model_path='model/wpgnn.h5')"
   ]
  },
  {
   "cell_type": "code",
   "execution_count": null,
   "metadata": {},
   "outputs": [],
   "source": [
    "# Run 10 epochs of training\n",
    "model.fit(data, data, learning_rate=1e-4, decay_rate=0.999, batch_size=25,\n",
    "          epochs=10, print_every=1, save_every=5,\n",
    "          save_model_path='example_training')"
   ]
  },
  {
   "cell_type": "code",
   "execution_count": null,
   "metadata": {},
   "outputs": [],
   "source": [
    "# Initialize wind plant layout generator\n",
    "generator = PLayGen()\n",
    "\n",
    "# Generate random wind farm layout\n",
    "xy = generator()\n",
    "yaw_angles = np.zeros((xy.shape[0], 1))\n",
    "\n",
    "# Build graph input for model\n",
    "wind_speed, wind_direction, turb_intensity = 8., 45., 0.08\n",
    "uv = utils.speed_to_velocity([wind_speed, wind_direction])\n",
    "\n",
    "edges, senders, receivers = utils.identify_edges(xy, wind_direction)\n",
    "input_graph = [{'globals': np.array([uv[0], uv[1], turb_intensity]),\n",
    "                  'nodes': np.concatenate((xy, yaw_angles), axis=1),\n",
    "                  'edges': edges,\n",
    "                'senders': senders,\n",
    "              'receivers': receivers}]\n",
    "\n",
    "# Evaluate model\n",
    "normed_input_graph, _ = utils.norm_data(xx=input_graph, scale_factors=scale_factors)\n",
    "normed_output_graph = graphs_tuple_to_data_dicts(model(data_dicts_to_graphs_tuple(normed_input_graph)))\n",
    "output_graph = utils.unnorm_data(ff=normed_output_graph, scale_factors=scale_factors)\n",
    "\n",
    "plt.figure()\n",
    "plt.scatter(input_graph[0]['nodes'][:, 0], input_graph[0]['nodes'][:, 1],\n",
    "            c=output_graph[0]['nodes'][:, 0]/1e6, edgecolor='k')\n",
    "xlim = plt.gca().get_xlim()\n",
    "ylim = plt.gca().get_ylim()\n",
    "plt.xlim(np.minimum(xlim[0], ylim[0]), np.maximum(xlim[1], ylim[1]))\n",
    "plt.ylim(np.minimum(xlim[0], ylim[0]), np.maximum(xlim[1], ylim[1]))\n",
    "plt.gca().set_aspect(1.)\n",
    "cbar = plt.colorbar()\n",
    "cbar.set_label('Power (MW)')\n",
    "plt.show()"
   ]
  },
  {
   "cell_type": "code",
   "execution_count": null,
   "metadata": {},
   "outputs": [],
   "source": [
    "# Generate random wind farm layout\n",
    "xy = generator()\n",
    "yaw_angles = np.zeros((xy.shape[0], 1))\n",
    "\n",
    "# Build graph input for model\n",
    "wind_speed, wind_direction = np.linspace(0, 20, 21), np.linspace(0, 360, 73)\n",
    "turb_intensity = 0.08\n",
    "\n",
    "# Create list of graph data\n",
    "input_graph = []\n",
    "for i, wd_i in enumerate(wind_direction):\n",
    "    for j, ws_j in enumerate(wind_speed):\n",
    "        uv = utils.speed_to_velocity([ws_j, wd_i])\n",
    "        edges, senders, receivers = utils.identify_edges(xy, wd_i)\n",
    "        input_graph.append({'globals': np.array([uv[0], uv[1], turb_intensity]),\n",
    "                              'nodes': np.concatenate((xy, yaw_angles), axis=1),\n",
    "                              'edges': edges,\n",
    "                            'senders': senders,\n",
    "                          'receivers': receivers})\n",
    "# Evaluate model\n",
    "normed_input_graph, _ = utils.norm_data(xx=input_graph, scale_factors=scale_factors)\n",
    "normed_output_graph = graphs_tuple_to_data_dicts(model(data_dicts_to_graphs_tuple(normed_input_graph)))\n",
    "output_graph = utils.unnorm_data(ff=normed_output_graph, scale_factors=scale_factors)\n",
    "\n",
    "# Extract power data\n",
    "P = np.zeros((wind_direction.size, wind_speed.size))\n",
    "for i, wd_i in enumerate(wind_direction):\n",
    "    for j, ws_j in enumerate(wind_speed):\n",
    "        P[i, j] = output_graph[i*wind_speed.size + j]['globals'][0]\n",
    "\n",
    "        \n",
    "plt.figure(figsize=(12, 3))\n",
    "\n",
    "plt.subplot(121)\n",
    "plt.scatter(input_graph[0]['nodes'][:, 0], input_graph[0]['nodes'][:, 1], facecolor='b', edgecolor='k')\n",
    "xlim = plt.gca().get_xlim()\n",
    "ylim = plt.gca().get_ylim()\n",
    "plt.xlim(np.minimum(xlim[0], ylim[0]), np.maximum(xlim[1], ylim[1]))\n",
    "plt.ylim(np.minimum(xlim[0], ylim[0]), np.maximum(xlim[1], ylim[1]))\n",
    "plt.gca().set_aspect(1.)\n",
    "\n",
    "plt.subplot(122)\n",
    "plt.contourf(wind_direction, wind_speed, P.T/1e6, levels=15)\n",
    "plt.gca().set_aspect(10.)\n",
    "plt.xlabel('Wind Direction')\n",
    "plt.ylabel('Wind Speed')\n",
    "cbar = plt.colorbar()\n",
    "cbar.set_label('Power (MW)')\n",
    "\n",
    "plt.show()"
   ]
  },
  {
   "cell_type": "code",
   "execution_count": null,
   "metadata": {},
   "outputs": [],
   "source": []
  }
 ],
 "metadata": {
  "kernelspec": {
   "display_name": "Python 3",
   "language": "python",
   "name": "python3"
  },
  "language_info": {
   "codemirror_mode": {
    "name": "ipython",
    "version": 3
   },
   "file_extension": ".py",
   "mimetype": "text/x-python",
   "name": "python",
   "nbconvert_exporter": "python",
   "pygments_lexer": "ipython3",
   "version": "3.7.12"
  }
 },
 "nbformat": 4,
 "nbformat_minor": 4
}
